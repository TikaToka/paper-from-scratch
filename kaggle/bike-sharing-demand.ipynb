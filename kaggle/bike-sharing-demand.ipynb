{
 "cells": [
  {
   "cell_type": "code",
   "execution_count": 1,
   "id": "c91ce396",
   "metadata": {
    "_cell_guid": "b1076dfc-b9ad-4769-8c92-a6c4dae69d19",
    "_uuid": "8f2839f25d086af736a60e9eeb907d3b93b6e0e5",
    "execution": {
     "iopub.execute_input": "2024-10-01T10:24:32.395943Z",
     "iopub.status.busy": "2024-10-01T10:24:32.395494Z",
     "iopub.status.idle": "2024-10-01T10:24:33.183691Z",
     "shell.execute_reply": "2024-10-01T10:24:33.182687Z"
    },
    "papermill": {
     "duration": 0.800981,
     "end_time": "2024-10-01T10:24:33.186537",
     "exception": false,
     "start_time": "2024-10-01T10:24:32.385556",
     "status": "completed"
    },
    "tags": []
   },
   "outputs": [
    {
     "name": "stdout",
     "output_type": "stream",
     "text": [
      "/kaggle/input/bike-sharing-demand/sampleSubmission.csv\n",
      "/kaggle/input/bike-sharing-demand/train.csv\n",
      "/kaggle/input/bike-sharing-demand/test.csv\n"
     ]
    }
   ],
   "source": [
    "# This Python 3 environment comes with many helpful analytics libraries installed\n",
    "# It is defined by the kaggle/python Docker image: https://github.com/kaggle/docker-python\n",
    "# For example, here's several helpful packages to load\n",
    "\n",
    "import numpy as np # linear algebra\n",
    "import pandas as pd # data processing, CSV file I/O (e.g. pd.read_csv)\n",
    "\n",
    "# Input data files are available in the read-only \"../input/\" directory\n",
    "# For example, running this (by clicking run or pressing Shift+Enter) will list all files under the input directory\n",
    "\n",
    "import os\n",
    "for dirname, _, filenames in os.walk('/kaggle/input'):\n",
    "    for filename in filenames:\n",
    "        print(os.path.join(dirname, filename))\n",
    "\n",
    "# You can write up to 20GB to the current directory (/kaggle/working/) that gets preserved as output when you create a version using \"Save & Run All\" \n",
    "# You can also write temporary files to /kaggle/temp/, but they won't be saved outside of the current session"
   ]
  },
  {
   "cell_type": "code",
   "execution_count": 2,
   "id": "79c28ae6",
   "metadata": {
    "execution": {
     "iopub.execute_input": "2024-10-01T10:24:33.205270Z",
     "iopub.status.busy": "2024-10-01T10:24:33.204727Z",
     "iopub.status.idle": "2024-10-01T10:24:35.149287Z",
     "shell.execute_reply": "2024-10-01T10:24:35.148304Z"
    },
    "papermill": {
     "duration": 1.955995,
     "end_time": "2024-10-01T10:24:35.151729",
     "exception": false,
     "start_time": "2024-10-01T10:24:33.195734",
     "status": "completed"
    },
    "tags": []
   },
   "outputs": [],
   "source": [
    "from sklearn.linear_model import LinearRegression,Ridge,Lasso\n",
    "from sklearn.ensemble import RandomForestRegressor, GradientBoostingRegressor\n",
    "from sklearn.model_selection import GridSearchCV\n",
    "from sklearn import metrics\n",
    "import seaborn as sns\n",
    "import matplotlib.pyplot as plt\n",
    "import calendar\n",
    "from datetime import datetime"
   ]
  },
  {
   "cell_type": "code",
   "execution_count": 3,
   "id": "223f4b25",
   "metadata": {
    "execution": {
     "iopub.execute_input": "2024-10-01T10:24:35.169973Z",
     "iopub.status.busy": "2024-10-01T10:24:35.168603Z",
     "iopub.status.idle": "2024-10-01T10:24:35.261430Z",
     "shell.execute_reply": "2024-10-01T10:24:35.260306Z"
    },
    "papermill": {
     "duration": 0.104308,
     "end_time": "2024-10-01T10:24:35.263934",
     "exception": false,
     "start_time": "2024-10-01T10:24:35.159626",
     "status": "completed"
    },
    "tags": []
   },
   "outputs": [],
   "source": [
    "train_data = pd.read_csv('../input/bike-sharing-demand/train.csv')\n",
    "test_X = pd.read_csv('../input/bike-sharing-demand/test.csv')\n",
    "test_Y = pd.read_csv('../input/bike-sharing-demand/sampleSubmission.csv')"
   ]
  },
  {
   "cell_type": "code",
   "execution_count": 4,
   "id": "6aec908c",
   "metadata": {
    "execution": {
     "iopub.execute_input": "2024-10-01T10:24:35.281174Z",
     "iopub.status.busy": "2024-10-01T10:24:35.280755Z",
     "iopub.status.idle": "2024-10-01T10:24:35.295181Z",
     "shell.execute_reply": "2024-10-01T10:24:35.294081Z"
    },
    "papermill": {
     "duration": 0.025484,
     "end_time": "2024-10-01T10:24:35.297379",
     "exception": false,
     "start_time": "2024-10-01T10:24:35.271895",
     "status": "completed"
    },
    "tags": []
   },
   "outputs": [],
   "source": [
    "train_X, train_Y = train_data.iloc[:, :-1], train_data.loc[:,'count']\n",
    "train_Y = np.log1p(train_Y)"
   ]
  },
  {
   "cell_type": "code",
   "execution_count": 5,
   "id": "86f47575",
   "metadata": {
    "execution": {
     "iopub.execute_input": "2024-10-01T10:24:35.315271Z",
     "iopub.status.busy": "2024-10-01T10:24:35.314843Z",
     "iopub.status.idle": "2024-10-01T10:24:35.336066Z",
     "shell.execute_reply": "2024-10-01T10:24:35.334740Z"
    },
    "papermill": {
     "duration": 0.03218,
     "end_time": "2024-10-01T10:24:35.338217",
     "exception": false,
     "start_time": "2024-10-01T10:24:35.306037",
     "status": "completed"
    },
    "tags": []
   },
   "outputs": [
    {
     "name": "stdout",
     "output_type": "stream",
     "text": [
      "<class 'pandas.core.frame.DataFrame'>\n",
      "RangeIndex: 10886 entries, 0 to 10885\n",
      "Data columns (total 11 columns):\n",
      " #   Column      Non-Null Count  Dtype  \n",
      "---  ------      --------------  -----  \n",
      " 0   datetime    10886 non-null  object \n",
      " 1   season      10886 non-null  int64  \n",
      " 2   holiday     10886 non-null  int64  \n",
      " 3   workingday  10886 non-null  int64  \n",
      " 4   weather     10886 non-null  int64  \n",
      " 5   temp        10886 non-null  float64\n",
      " 6   atemp       10886 non-null  float64\n",
      " 7   humidity    10886 non-null  int64  \n",
      " 8   windspeed   10886 non-null  float64\n",
      " 9   casual      10886 non-null  int64  \n",
      " 10  registered  10886 non-null  int64  \n",
      "dtypes: float64(3), int64(7), object(1)\n",
      "memory usage: 935.6+ KB\n"
     ]
    }
   ],
   "source": [
    "train_X.info()"
   ]
  },
  {
   "cell_type": "code",
   "execution_count": 6,
   "id": "05397b37",
   "metadata": {
    "execution": {
     "iopub.execute_input": "2024-10-01T10:24:35.355353Z",
     "iopub.status.busy": "2024-10-01T10:24:35.354954Z",
     "iopub.status.idle": "2024-10-01T10:24:35.364143Z",
     "shell.execute_reply": "2024-10-01T10:24:35.363203Z"
    },
    "papermill": {
     "duration": 0.02049,
     "end_time": "2024-10-01T10:24:35.366603",
     "exception": false,
     "start_time": "2024-10-01T10:24:35.346113",
     "status": "completed"
    },
    "tags": []
   },
   "outputs": [
    {
     "name": "stdout",
     "output_type": "stream",
     "text": [
      "<class 'pandas.core.series.Series'>\n",
      "RangeIndex: 10886 entries, 0 to 10885\n",
      "Series name: count\n",
      "Non-Null Count  Dtype  \n",
      "--------------  -----  \n",
      "10886 non-null  float64\n",
      "dtypes: float64(1)\n",
      "memory usage: 85.2 KB\n"
     ]
    }
   ],
   "source": [
    "train_Y.info()"
   ]
  },
  {
   "cell_type": "code",
   "execution_count": 7,
   "id": "4f885967",
   "metadata": {
    "execution": {
     "iopub.execute_input": "2024-10-01T10:24:35.384705Z",
     "iopub.status.busy": "2024-10-01T10:24:35.384334Z",
     "iopub.status.idle": "2024-10-01T10:24:35.396821Z",
     "shell.execute_reply": "2024-10-01T10:24:35.395587Z"
    },
    "papermill": {
     "duration": 0.023934,
     "end_time": "2024-10-01T10:24:35.399034",
     "exception": false,
     "start_time": "2024-10-01T10:24:35.375100",
     "status": "completed"
    },
    "tags": []
   },
   "outputs": [
    {
     "data": {
      "text/plain": [
       "0    2.833213\n",
       "1    3.713572\n",
       "Name: count, dtype: float64"
      ]
     },
     "execution_count": 7,
     "metadata": {},
     "output_type": "execute_result"
    }
   ],
   "source": [
    "train_Y.head(2)"
   ]
  },
  {
   "cell_type": "code",
   "execution_count": 8,
   "id": "1aae7ae9",
   "metadata": {
    "execution": {
     "iopub.execute_input": "2024-10-01T10:24:35.417296Z",
     "iopub.status.busy": "2024-10-01T10:24:35.416531Z",
     "iopub.status.idle": "2024-10-01T10:24:35.432652Z",
     "shell.execute_reply": "2024-10-01T10:24:35.431502Z"
    },
    "papermill": {
     "duration": 0.027641,
     "end_time": "2024-10-01T10:24:35.435071",
     "exception": false,
     "start_time": "2024-10-01T10:24:35.407430",
     "status": "completed"
    },
    "tags": []
   },
   "outputs": [
    {
     "data": {
      "text/html": [
       "<div>\n",
       "<style scoped>\n",
       "    .dataframe tbody tr th:only-of-type {\n",
       "        vertical-align: middle;\n",
       "    }\n",
       "\n",
       "    .dataframe tbody tr th {\n",
       "        vertical-align: top;\n",
       "    }\n",
       "\n",
       "    .dataframe thead th {\n",
       "        text-align: right;\n",
       "    }\n",
       "</style>\n",
       "<table border=\"1\" class=\"dataframe\">\n",
       "  <thead>\n",
       "    <tr style=\"text-align: right;\">\n",
       "      <th></th>\n",
       "      <th>datetime</th>\n",
       "      <th>season</th>\n",
       "      <th>holiday</th>\n",
       "      <th>workingday</th>\n",
       "      <th>weather</th>\n",
       "      <th>temp</th>\n",
       "      <th>atemp</th>\n",
       "      <th>humidity</th>\n",
       "      <th>windspeed</th>\n",
       "      <th>casual</th>\n",
       "      <th>registered</th>\n",
       "    </tr>\n",
       "  </thead>\n",
       "  <tbody>\n",
       "    <tr>\n",
       "      <th>0</th>\n",
       "      <td>2011-01-01 00:00:00</td>\n",
       "      <td>1</td>\n",
       "      <td>0</td>\n",
       "      <td>0</td>\n",
       "      <td>1</td>\n",
       "      <td>9.84</td>\n",
       "      <td>14.395</td>\n",
       "      <td>81</td>\n",
       "      <td>0.0</td>\n",
       "      <td>3</td>\n",
       "      <td>13</td>\n",
       "    </tr>\n",
       "    <tr>\n",
       "      <th>1</th>\n",
       "      <td>2011-01-01 01:00:00</td>\n",
       "      <td>1</td>\n",
       "      <td>0</td>\n",
       "      <td>0</td>\n",
       "      <td>1</td>\n",
       "      <td>9.02</td>\n",
       "      <td>13.635</td>\n",
       "      <td>80</td>\n",
       "      <td>0.0</td>\n",
       "      <td>8</td>\n",
       "      <td>32</td>\n",
       "    </tr>\n",
       "  </tbody>\n",
       "</table>\n",
       "</div>"
      ],
      "text/plain": [
       "              datetime  season  holiday  workingday  weather  temp   atemp  \\\n",
       "0  2011-01-01 00:00:00       1        0           0        1  9.84  14.395   \n",
       "1  2011-01-01 01:00:00       1        0           0        1  9.02  13.635   \n",
       "\n",
       "   humidity  windspeed  casual  registered  \n",
       "0        81        0.0       3          13  \n",
       "1        80        0.0       8          32  "
      ]
     },
     "execution_count": 8,
     "metadata": {},
     "output_type": "execute_result"
    }
   ],
   "source": [
    "train_X.head(2)"
   ]
  },
  {
   "cell_type": "code",
   "execution_count": 9,
   "id": "9314af24",
   "metadata": {
    "execution": {
     "iopub.execute_input": "2024-10-01T10:24:35.453548Z",
     "iopub.status.busy": "2024-10-01T10:24:35.453132Z",
     "iopub.status.idle": "2024-10-01T10:24:35.465401Z",
     "shell.execute_reply": "2024-10-01T10:24:35.464376Z"
    },
    "papermill": {
     "duration": 0.024247,
     "end_time": "2024-10-01T10:24:35.467781",
     "exception": false,
     "start_time": "2024-10-01T10:24:35.443534",
     "status": "completed"
    },
    "tags": []
   },
   "outputs": [
    {
     "name": "stdout",
     "output_type": "stream",
     "text": [
      "<class 'pandas.core.frame.DataFrame'>\n",
      "RangeIndex: 10886 entries, 0 to 10885\n",
      "Data columns (total 12 columns):\n",
      " #   Column      Non-Null Count  Dtype  \n",
      "---  ------      --------------  -----  \n",
      " 0   datetime    10886 non-null  object \n",
      " 1   season      10886 non-null  int64  \n",
      " 2   holiday     10886 non-null  int64  \n",
      " 3   workingday  10886 non-null  int64  \n",
      " 4   weather     10886 non-null  int64  \n",
      " 5   temp        10886 non-null  float64\n",
      " 6   atemp       10886 non-null  float64\n",
      " 7   humidity    10886 non-null  int64  \n",
      " 8   windspeed   10886 non-null  float64\n",
      " 9   casual      10886 non-null  int64  \n",
      " 10  registered  10886 non-null  int64  \n",
      " 11  count       10886 non-null  int64  \n",
      "dtypes: float64(3), int64(8), object(1)\n",
      "memory usage: 1020.7+ KB\n"
     ]
    }
   ],
   "source": [
    "train_data.info()"
   ]
  },
  {
   "cell_type": "code",
   "execution_count": 10,
   "id": "5d00fe00",
   "metadata": {
    "execution": {
     "iopub.execute_input": "2024-10-01T10:24:35.486798Z",
     "iopub.status.busy": "2024-10-01T10:24:35.486416Z",
     "iopub.status.idle": "2024-10-01T10:24:35.500109Z",
     "shell.execute_reply": "2024-10-01T10:24:35.499160Z"
    },
    "papermill": {
     "duration": 0.02594,
     "end_time": "2024-10-01T10:24:35.502306",
     "exception": false,
     "start_time": "2024-10-01T10:24:35.476366",
     "status": "completed"
    },
    "tags": []
   },
   "outputs": [
    {
     "data": {
      "text/html": [
       "<div>\n",
       "<style scoped>\n",
       "    .dataframe tbody tr th:only-of-type {\n",
       "        vertical-align: middle;\n",
       "    }\n",
       "\n",
       "    .dataframe tbody tr th {\n",
       "        vertical-align: top;\n",
       "    }\n",
       "\n",
       "    .dataframe thead th {\n",
       "        text-align: right;\n",
       "    }\n",
       "</style>\n",
       "<table border=\"1\" class=\"dataframe\">\n",
       "  <thead>\n",
       "    <tr style=\"text-align: right;\">\n",
       "      <th></th>\n",
       "      <th>datetime</th>\n",
       "      <th>season</th>\n",
       "      <th>holiday</th>\n",
       "      <th>workingday</th>\n",
       "      <th>weather</th>\n",
       "      <th>temp</th>\n",
       "      <th>atemp</th>\n",
       "      <th>humidity</th>\n",
       "      <th>windspeed</th>\n",
       "      <th>casual</th>\n",
       "      <th>registered</th>\n",
       "    </tr>\n",
       "  </thead>\n",
       "  <tbody>\n",
       "    <tr>\n",
       "      <th>0</th>\n",
       "      <td>2011-01-01 00:00:00</td>\n",
       "      <td>1</td>\n",
       "      <td>0</td>\n",
       "      <td>0</td>\n",
       "      <td>1</td>\n",
       "      <td>9.84</td>\n",
       "      <td>14.395</td>\n",
       "      <td>81</td>\n",
       "      <td>0.0</td>\n",
       "      <td>3</td>\n",
       "      <td>13</td>\n",
       "    </tr>\n",
       "    <tr>\n",
       "      <th>1</th>\n",
       "      <td>2011-01-01 01:00:00</td>\n",
       "      <td>1</td>\n",
       "      <td>0</td>\n",
       "      <td>0</td>\n",
       "      <td>1</td>\n",
       "      <td>9.02</td>\n",
       "      <td>13.635</td>\n",
       "      <td>80</td>\n",
       "      <td>0.0</td>\n",
       "      <td>8</td>\n",
       "      <td>32</td>\n",
       "    </tr>\n",
       "  </tbody>\n",
       "</table>\n",
       "</div>"
      ],
      "text/plain": [
       "              datetime  season  holiday  workingday  weather  temp   atemp  \\\n",
       "0  2011-01-01 00:00:00       1        0           0        1  9.84  14.395   \n",
       "1  2011-01-01 01:00:00       1        0           0        1  9.02  13.635   \n",
       "\n",
       "   humidity  windspeed  casual  registered  \n",
       "0        81        0.0       3          13  \n",
       "1        80        0.0       8          32  "
      ]
     },
     "execution_count": 10,
     "metadata": {},
     "output_type": "execute_result"
    }
   ],
   "source": [
    "train_X.head(2)"
   ]
  },
  {
   "cell_type": "code",
   "execution_count": 11,
   "id": "d00f01b3",
   "metadata": {
    "execution": {
     "iopub.execute_input": "2024-10-01T10:24:35.521611Z",
     "iopub.status.busy": "2024-10-01T10:24:35.520653Z",
     "iopub.status.idle": "2024-10-01T10:24:35.701586Z",
     "shell.execute_reply": "2024-10-01T10:24:35.700254Z"
    },
    "papermill": {
     "duration": 0.193257,
     "end_time": "2024-10-01T10:24:35.704168",
     "exception": false,
     "start_time": "2024-10-01T10:24:35.510911",
     "status": "completed"
    },
    "tags": []
   },
   "outputs": [],
   "source": [
    "train_X['year'] = train_X['datetime'].apply(lambda x: x.split()[0].split('-')[0])\n",
    "train_X['month'] = train_X['datetime'].apply(lambda x: x.split()[0].split('-')[1])\n",
    "train_X['day'] = train_X['datetime'].apply(lambda x: x.split()[0].split('-')[2])\n",
    "train_X['hour'] = train_X['datetime'].apply(lambda x: x.split()[1].split(':')[0])\n",
    "\n",
    "train_X['tempDate'] = train_X['datetime'].apply(lambda x: x.split()[0])\n",
    "train_X[\"weekday\"] = train_X['tempDate'].apply(lambda x : calendar.day_name[datetime.strptime(x,\"%Y-%m-%d\").weekday()])"
   ]
  },
  {
   "cell_type": "code",
   "execution_count": 12,
   "id": "6850ec2a",
   "metadata": {
    "execution": {
     "iopub.execute_input": "2024-10-01T10:24:35.723093Z",
     "iopub.status.busy": "2024-10-01T10:24:35.722700Z",
     "iopub.status.idle": "2024-10-01T10:24:35.757176Z",
     "shell.execute_reply": "2024-10-01T10:24:35.755973Z"
    },
    "papermill": {
     "duration": 0.046665,
     "end_time": "2024-10-01T10:24:35.759457",
     "exception": false,
     "start_time": "2024-10-01T10:24:35.712792",
     "status": "completed"
    },
    "tags": []
   },
   "outputs": [],
   "source": [
    "for value in ['year', 'month', 'day', 'hour']:\n",
    "    train_X[value] = pd.to_numeric(train_X[value], errors='coerce')\n",
    "    \n",
    "train_X['weekday']= train_X['weekday'].astype('category')"
   ]
  },
  {
   "cell_type": "code",
   "execution_count": 13,
   "id": "0c1230c9",
   "metadata": {
    "execution": {
     "iopub.execute_input": "2024-10-01T10:24:35.778270Z",
     "iopub.status.busy": "2024-10-01T10:24:35.777825Z",
     "iopub.status.idle": "2024-10-01T10:24:35.783925Z",
     "shell.execute_reply": "2024-10-01T10:24:35.782962Z"
    },
    "papermill": {
     "duration": 0.018059,
     "end_time": "2024-10-01T10:24:35.786028",
     "exception": false,
     "start_time": "2024-10-01T10:24:35.767969",
     "status": "completed"
    },
    "tags": []
   },
   "outputs": [],
   "source": [
    "train_X['weekday'].cat.categories\n",
    "\n",
    "train_X['weekday'] = train_X['weekday'].cat.rename_categories([5,1,6,0,4,2,3])\n"
   ]
  },
  {
   "cell_type": "code",
   "execution_count": 14,
   "id": "65dd1a6a",
   "metadata": {
    "execution": {
     "iopub.execute_input": "2024-10-01T10:24:35.805237Z",
     "iopub.status.busy": "2024-10-01T10:24:35.804344Z",
     "iopub.status.idle": "2024-10-01T10:24:35.820320Z",
     "shell.execute_reply": "2024-10-01T10:24:35.819128Z"
    },
    "papermill": {
     "duration": 0.02775,
     "end_time": "2024-10-01T10:24:35.822505",
     "exception": false,
     "start_time": "2024-10-01T10:24:35.794755",
     "status": "completed"
    },
    "tags": []
   },
   "outputs": [
    {
     "name": "stdout",
     "output_type": "stream",
     "text": [
      "<class 'pandas.core.frame.DataFrame'>\n",
      "RangeIndex: 10886 entries, 0 to 10885\n",
      "Data columns (total 17 columns):\n",
      " #   Column      Non-Null Count  Dtype   \n",
      "---  ------      --------------  -----   \n",
      " 0   datetime    10886 non-null  object  \n",
      " 1   season      10886 non-null  int64   \n",
      " 2   holiday     10886 non-null  int64   \n",
      " 3   workingday  10886 non-null  int64   \n",
      " 4   weather     10886 non-null  int64   \n",
      " 5   temp        10886 non-null  float64 \n",
      " 6   atemp       10886 non-null  float64 \n",
      " 7   humidity    10886 non-null  int64   \n",
      " 8   windspeed   10886 non-null  float64 \n",
      " 9   casual      10886 non-null  int64   \n",
      " 10  registered  10886 non-null  int64   \n",
      " 11  year        10886 non-null  int64   \n",
      " 12  month       10886 non-null  int64   \n",
      " 13  day         10886 non-null  int64   \n",
      " 14  hour        10886 non-null  int64   \n",
      " 15  tempDate    10886 non-null  object  \n",
      " 16  weekday     10886 non-null  category\n",
      "dtypes: category(1), float64(3), int64(11), object(2)\n",
      "memory usage: 1.3+ MB\n"
     ]
    }
   ],
   "source": [
    "train_X.info()"
   ]
  },
  {
   "cell_type": "code",
   "execution_count": 15,
   "id": "1df29dff",
   "metadata": {
    "execution": {
     "iopub.execute_input": "2024-10-01T10:24:35.841601Z",
     "iopub.status.busy": "2024-10-01T10:24:35.840876Z",
     "iopub.status.idle": "2024-10-01T10:24:35.857144Z",
     "shell.execute_reply": "2024-10-01T10:24:35.855975Z"
    },
    "papermill": {
     "duration": 0.028232,
     "end_time": "2024-10-01T10:24:35.859308",
     "exception": false,
     "start_time": "2024-10-01T10:24:35.831076",
     "status": "completed"
    },
    "tags": []
   },
   "outputs": [
    {
     "data": {
      "text/html": [
       "<div>\n",
       "<style scoped>\n",
       "    .dataframe tbody tr th:only-of-type {\n",
       "        vertical-align: middle;\n",
       "    }\n",
       "\n",
       "    .dataframe tbody tr th {\n",
       "        vertical-align: top;\n",
       "    }\n",
       "\n",
       "    .dataframe thead th {\n",
       "        text-align: right;\n",
       "    }\n",
       "</style>\n",
       "<table border=\"1\" class=\"dataframe\">\n",
       "  <thead>\n",
       "    <tr style=\"text-align: right;\">\n",
       "      <th></th>\n",
       "      <th>datetime</th>\n",
       "      <th>season</th>\n",
       "      <th>holiday</th>\n",
       "      <th>workingday</th>\n",
       "      <th>weather</th>\n",
       "      <th>temp</th>\n",
       "      <th>atemp</th>\n",
       "      <th>humidity</th>\n",
       "      <th>windspeed</th>\n",
       "      <th>casual</th>\n",
       "      <th>registered</th>\n",
       "      <th>year</th>\n",
       "      <th>month</th>\n",
       "      <th>day</th>\n",
       "      <th>hour</th>\n",
       "      <th>tempDate</th>\n",
       "      <th>weekday</th>\n",
       "    </tr>\n",
       "  </thead>\n",
       "  <tbody>\n",
       "    <tr>\n",
       "      <th>0</th>\n",
       "      <td>2011-01-01 00:00:00</td>\n",
       "      <td>1</td>\n",
       "      <td>0</td>\n",
       "      <td>0</td>\n",
       "      <td>1</td>\n",
       "      <td>9.84</td>\n",
       "      <td>14.395</td>\n",
       "      <td>81</td>\n",
       "      <td>0.0</td>\n",
       "      <td>3</td>\n",
       "      <td>13</td>\n",
       "      <td>2011</td>\n",
       "      <td>1</td>\n",
       "      <td>1</td>\n",
       "      <td>0</td>\n",
       "      <td>2011-01-01</td>\n",
       "      <td>6</td>\n",
       "    </tr>\n",
       "  </tbody>\n",
       "</table>\n",
       "</div>"
      ],
      "text/plain": [
       "              datetime  season  holiday  workingday  weather  temp   atemp  \\\n",
       "0  2011-01-01 00:00:00       1        0           0        1  9.84  14.395   \n",
       "\n",
       "   humidity  windspeed  casual  registered  year  month  day  hour  \\\n",
       "0        81        0.0       3          13  2011      1    1     0   \n",
       "\n",
       "     tempDate weekday  \n",
       "0  2011-01-01       6  "
      ]
     },
     "execution_count": 15,
     "metadata": {},
     "output_type": "execute_result"
    }
   ],
   "source": [
    "train_X.head(1)"
   ]
  },
  {
   "cell_type": "code",
   "execution_count": 16,
   "id": "62a0a53a",
   "metadata": {
    "execution": {
     "iopub.execute_input": "2024-10-01T10:24:35.879776Z",
     "iopub.status.busy": "2024-10-01T10:24:35.878714Z",
     "iopub.status.idle": "2024-10-01T10:24:35.886713Z",
     "shell.execute_reply": "2024-10-01T10:24:35.885613Z"
    },
    "papermill": {
     "duration": 0.020263,
     "end_time": "2024-10-01T10:24:35.888857",
     "exception": false,
     "start_time": "2024-10-01T10:24:35.868594",
     "status": "completed"
    },
    "tags": []
   },
   "outputs": [],
   "source": [
    "train_X = train_X.drop(['tempDate', 'datetime', 'casual', 'registered'], axis=1)"
   ]
  },
  {
   "cell_type": "code",
   "execution_count": 17,
   "id": "5372719d",
   "metadata": {
    "execution": {
     "iopub.execute_input": "2024-10-01T10:24:35.908013Z",
     "iopub.status.busy": "2024-10-01T10:24:35.907637Z",
     "iopub.status.idle": "2024-10-01T10:24:35.919733Z",
     "shell.execute_reply": "2024-10-01T10:24:35.918630Z"
    },
    "papermill": {
     "duration": 0.024372,
     "end_time": "2024-10-01T10:24:35.922036",
     "exception": false,
     "start_time": "2024-10-01T10:24:35.897664",
     "status": "completed"
    },
    "tags": []
   },
   "outputs": [
    {
     "name": "stdout",
     "output_type": "stream",
     "text": [
      "<class 'pandas.core.frame.DataFrame'>\n",
      "RangeIndex: 10886 entries, 0 to 10885\n",
      "Data columns (total 13 columns):\n",
      " #   Column      Non-Null Count  Dtype   \n",
      "---  ------      --------------  -----   \n",
      " 0   season      10886 non-null  int64   \n",
      " 1   holiday     10886 non-null  int64   \n",
      " 2   workingday  10886 non-null  int64   \n",
      " 3   weather     10886 non-null  int64   \n",
      " 4   temp        10886 non-null  float64 \n",
      " 5   atemp       10886 non-null  float64 \n",
      " 6   humidity    10886 non-null  int64   \n",
      " 7   windspeed   10886 non-null  float64 \n",
      " 8   year        10886 non-null  int64   \n",
      " 9   month       10886 non-null  int64   \n",
      " 10  day         10886 non-null  int64   \n",
      " 11  hour        10886 non-null  int64   \n",
      " 12  weekday     10886 non-null  category\n",
      "dtypes: category(1), float64(3), int64(9)\n",
      "memory usage: 1.0 MB\n"
     ]
    }
   ],
   "source": [
    "train_X.info()"
   ]
  },
  {
   "cell_type": "code",
   "execution_count": 18,
   "id": "a4f8f20e",
   "metadata": {
    "execution": {
     "iopub.execute_input": "2024-10-01T10:24:35.941445Z",
     "iopub.status.busy": "2024-10-01T10:24:35.941047Z",
     "iopub.status.idle": "2024-10-01T10:24:35.950386Z",
     "shell.execute_reply": "2024-10-01T10:24:35.949245Z"
    },
    "papermill": {
     "duration": 0.021926,
     "end_time": "2024-10-01T10:24:35.952781",
     "exception": false,
     "start_time": "2024-10-01T10:24:35.930855",
     "status": "completed"
    },
    "tags": []
   },
   "outputs": [
    {
     "name": "stdout",
     "output_type": "stream",
     "text": [
      "<class 'pandas.core.series.Series'>\n",
      "RangeIndex: 10886 entries, 0 to 10885\n",
      "Series name: count\n",
      "Non-Null Count  Dtype  \n",
      "--------------  -----  \n",
      "10886 non-null  float64\n",
      "dtypes: float64(1)\n",
      "memory usage: 85.2 KB\n"
     ]
    }
   ],
   "source": [
    "train_Y.info()"
   ]
  },
  {
   "cell_type": "code",
   "execution_count": 19,
   "id": "eda16646",
   "metadata": {
    "execution": {
     "iopub.execute_input": "2024-10-01T10:24:35.972886Z",
     "iopub.status.busy": "2024-10-01T10:24:35.972500Z",
     "iopub.status.idle": "2024-10-01T10:24:37.161799Z",
     "shell.execute_reply": "2024-10-01T10:24:37.160773Z"
    },
    "papermill": {
     "duration": 1.203738,
     "end_time": "2024-10-01T10:24:37.165730",
     "exception": false,
     "start_time": "2024-10-01T10:24:35.961992",
     "status": "completed"
    },
    "tags": []
   },
   "outputs": [
    {
     "data": {
      "text/plain": [
       "<Axes: >"
      ]
     },
     "execution_count": 19,
     "metadata": {},
     "output_type": "execute_result"
    },
    {
     "data": {
      "image/png": "[encoded data removed]",
      "text/plain": [
       "<Figure size 2000x2000 with 2 Axes>"
      ]
     },
     "metadata": {},
     "output_type": "display_data"
    }
   ],
   "source": [
    "fig = plt.figure(figsize=[20,20])\n",
    "temp = pd.concat([train_X, train_Y], axis=1)\n",
    "temp.head(1)\n",
    "sns.heatmap(temp.corr(), annot=True, square=True)"
   ]
  },
  {
   "cell_type": "code",
   "execution_count": 20,
   "id": "f51af866",
   "metadata": {
    "execution": {
     "iopub.execute_input": "2024-10-01T10:24:37.192796Z",
     "iopub.status.busy": "2024-10-01T10:24:37.191637Z",
     "iopub.status.idle": "2024-10-01T10:24:37.227884Z",
     "shell.execute_reply": "2024-10-01T10:24:37.226609Z"
    },
    "papermill": {
     "duration": 0.052494,
     "end_time": "2024-10-01T10:24:37.230898",
     "exception": false,
     "start_time": "2024-10-01T10:24:37.178404",
     "status": "completed"
    },
    "tags": []
   },
   "outputs": [
    {
     "data": {
      "text/html": [
       "<style>#sk-container-id-1 {color: black;background-color: white;}#sk-container-id-1 pre{padding: 0;}#sk-container-id-1 div.sk-toggleable {background-color: white;}#sk-container-id-1 label.sk-toggleable__label {cursor: pointer;display: block;width: 100%;margin-bottom: 0;padding: 0.3em;box-sizing: border-box;text-align: center;}#sk-container-id-1 label.sk-toggleable__label-arrow:before {content: \"▸\";float: left;margin-right: 0.25em;color: #696969;}#sk-container-id-1 label.sk-toggleable__label-arrow:hover:before {color: black;}#sk-container-id-1 div.sk-estimator:hover label.sk-toggleable__label-arrow:before {color: black;}#sk-container-id-1 div.sk-toggleable__content {max-height: 0;max-width: 0;overflow: hidden;text-align: left;background-color: #f0f8ff;}#sk-container-id-1 div.sk-toggleable__content pre {margin: 0.2em;color: black;border-radius: 0.25em;background-color: #f0f8ff;}#sk-container-id-1 input.sk-toggleable__control:checked~div.sk-toggleable__content {max-height: 200px;max-width: 100%;overflow: auto;}#sk-container-id-1 input.sk-toggleable__control:checked~label.sk-toggleable__label-arrow:before {content: \"▾\";}#sk-container-id-1 div.sk-estimator input.sk-toggleable__control:checked~label.sk-toggleable__label {background-color: #d4ebff;}#sk-container-id-1 div.sk-label input.sk-toggleable__control:checked~label.sk-toggleable__label {background-color: #d4ebff;}#sk-container-id-1 input.sk-hidden--visually {border: 0;clip: rect(1px 1px 1px 1px);clip: rect(1px, 1px, 1px, 1px);height: 1px;margin: -1px;overflow: hidden;padding: 0;position: absolute;width: 1px;}#sk-container-id-1 div.sk-estimator {font-family: monospace;background-color: #f0f8ff;border: 1px dotted black;border-radius: 0.25em;box-sizing: border-box;margin-bottom: 0.5em;}#sk-container-id-1 div.sk-estimator:hover {background-color: #d4ebff;}#sk-container-id-1 div.sk-parallel-item::after {content: \"\";width: 100%;border-bottom: 1px solid gray;flex-grow: 1;}#sk-container-id-1 div.sk-label:hover label.sk-toggleable__label {background-color: #d4ebff;}#sk-container-id-1 div.sk-serial::before {content: \"\";position: absolute;border-left: 1px solid gray;box-sizing: border-box;top: 0;bottom: 0;left: 50%;z-index: 0;}#sk-container-id-1 div.sk-serial {display: flex;flex-direction: column;align-items: center;background-color: white;padding-right: 0.2em;padding-left: 0.2em;position: relative;}#sk-container-id-1 div.sk-item {position: relative;z-index: 1;}#sk-container-id-1 div.sk-parallel {display: flex;align-items: stretch;justify-content: center;background-color: white;position: relative;}#sk-container-id-1 div.sk-item::before, #sk-container-id-1 div.sk-parallel-item::before {content: \"\";position: absolute;border-left: 1px solid gray;box-sizing: border-box;top: 0;bottom: 0;left: 50%;z-index: -1;}#sk-container-id-1 div.sk-parallel-item {display: flex;flex-direction: column;z-index: 1;position: relative;background-color: white;}#sk-container-id-1 div.sk-parallel-item:first-child::after {align-self: flex-end;width: 50%;}#sk-container-id-1 div.sk-parallel-item:last-child::after {align-self: flex-start;width: 50%;}#sk-container-id-1 div.sk-parallel-item:only-child::after {width: 0;}#sk-container-id-1 div.sk-dashed-wrapped {border: 1px dashed gray;margin: 0 0.4em 0.5em 0.4em;box-sizing: border-box;padding-bottom: 0.4em;background-color: white;}#sk-container-id-1 div.sk-label label {font-family: monospace;font-weight: bold;display: inline-block;line-height: 1.2em;}#sk-container-id-1 div.sk-label-container {text-align: center;}#sk-container-id-1 div.sk-container {/* jupyter's `normalize.less` sets `[hidden] { display: none; }` but bootstrap.min.css set `[hidden] { display: none !important; }` so we also need the `!important` here to be able to override the default hidden behavior on the sphinx rendered scikit-learn.org. See: https://github.com/scikit-learn/scikit-learn/issues/21755 */display: inline-block !important;position: relative;}#sk-container-id-1 div.sk-text-repr-fallback {display: none;}</style><div id=\"sk-container-id-1\" class=\"sk-top-container\"><div class=\"sk-text-repr-fallback\"><pre>LinearRegression()</pre><b>In a Jupyter environment, please rerun this cell to show the HTML representation or trust the notebook. <br />On GitHub, the HTML representation is unable to render, please try loading this page with nbviewer.org.</b></div><div class=\"sk-container\" hidden><div class=\"sk-item\"><div class=\"sk-estimator sk-toggleable\"><input class=\"sk-toggleable__control sk-hidden--visually\" id=\"sk-estimator-id-1\" type=\"checkbox\" checked><label for=\"sk-estimator-id-1\" class=\"sk-toggleable__label sk-toggleable__label-arrow\">LinearRegression</label><div class=\"sk-toggleable__content\"><pre>LinearRegression()</pre></div></div></div></div></div>"
      ],
      "text/plain": [
       "LinearRegression()"
      ]
     },
     "execution_count": 20,
     "metadata": {},
     "output_type": "execute_result"
    }
   ],
   "source": [
    "model = LinearRegression()\n",
    "\n",
    "model.fit(train_X, train_Y)"
   ]
  },
  {
   "cell_type": "code",
   "execution_count": 21,
   "id": "3ed66716",
   "metadata": {
    "execution": {
     "iopub.execute_input": "2024-10-01T10:24:37.269608Z",
     "iopub.status.busy": "2024-10-01T10:24:37.269124Z",
     "iopub.status.idle": "2024-10-01T10:24:37.287426Z",
     "shell.execute_reply": "2024-10-01T10:24:37.286223Z"
    },
    "papermill": {
     "duration": 0.041405,
     "end_time": "2024-10-01T10:24:37.290769",
     "exception": false,
     "start_time": "2024-10-01T10:24:37.249364",
     "status": "completed"
    },
    "tags": []
   },
   "outputs": [],
   "source": [
    "pred = model.predict(train_X)"
   ]
  },
  {
   "cell_type": "code",
   "execution_count": 22,
   "id": "67912f2f",
   "metadata": {
    "execution": {
     "iopub.execute_input": "2024-10-01T10:24:37.356427Z",
     "iopub.status.busy": "2024-10-01T10:24:37.355862Z",
     "iopub.status.idle": "2024-10-01T10:24:37.364429Z",
     "shell.execute_reply": "2024-10-01T10:24:37.363045Z"
    },
    "papermill": {
     "duration": 0.040825,
     "end_time": "2024-10-01T10:24:37.369877",
     "exception": false,
     "start_time": "2024-10-01T10:24:37.329052",
     "status": "completed"
    },
    "tags": []
   },
   "outputs": [],
   "source": [
    "def rmsle(y, y_):\n",
    "    log1 = np.nan_to_num(np.array([np.log(v + 1) for v in y]))\n",
    "    log2 = np.nan_to_num(np.array([np.log(v + 1) for v in y_]))\n",
    "    calc = (log1 - log2) ** 2\n",
    "    return np.sqrt(np.mean(calc))"
   ]
  },
  {
   "cell_type": "code",
   "execution_count": 23,
   "id": "853312c2",
   "metadata": {
    "execution": {
     "iopub.execute_input": "2024-10-01T10:24:37.408289Z",
     "iopub.status.busy": "2024-10-01T10:24:37.407458Z",
     "iopub.status.idle": "2024-10-01T10:24:37.439807Z",
     "shell.execute_reply": "2024-10-01T10:24:37.438800Z"
    },
    "papermill": {
     "duration": 0.051293,
     "end_time": "2024-10-01T10:24:37.442077",
     "exception": false,
     "start_time": "2024-10-01T10:24:37.390784",
     "status": "completed"
    },
    "tags": []
   },
   "outputs": [
    {
     "data": {
      "text/plain": [
       "0.9774163057674164"
      ]
     },
     "execution_count": 23,
     "metadata": {},
     "output_type": "execute_result"
    }
   ],
   "source": [
    "rmsle(np.exp(train_Y), np.exp(pred))"
   ]
  },
  {
   "cell_type": "code",
   "execution_count": 24,
   "id": "ffac59c8",
   "metadata": {
    "execution": {
     "iopub.execute_input": "2024-10-01T10:24:37.468321Z",
     "iopub.status.busy": "2024-10-01T10:24:37.467901Z",
     "iopub.status.idle": "2024-10-01T10:24:38.798686Z",
     "shell.execute_reply": "2024-10-01T10:24:38.796946Z"
    },
    "papermill": {
     "duration": 1.347207,
     "end_time": "2024-10-01T10:24:38.801754",
     "exception": false,
     "start_time": "2024-10-01T10:24:37.454547",
     "status": "completed"
    },
    "tags": []
   },
   "outputs": [
    {
     "data": {
      "text/plain": [
       "0.9774163057674164"
      ]
     },
     "execution_count": 24,
     "metadata": {},
     "output_type": "execute_result"
    }
   ],
   "source": [
    "lasso = Lasso()\n",
    "rmsle_scorer = metrics.make_scorer(rmsle,greater_is_better=False)\n",
    "lasso_params = {'max_iter':[3000],'alpha':[0.001,0.01,0.1,1,10,100,1000]}\n",
    "grid_lasso = GridSearchCV(lasso,lasso_params,scoring=rmsle_scorer,cv=5)\n",
    "grid_lasso.fit(train_X,train_Y)\n",
    "preds = grid_lasso.predict(train_X)\n",
    "rmsle(np.exp(train_Y), np.exp(pred))"
   ]
  },
  {
   "cell_type": "code",
   "execution_count": 25,
   "id": "572457b5",
   "metadata": {
    "execution": {
     "iopub.execute_input": "2024-10-01T10:24:38.833387Z",
     "iopub.status.busy": "2024-10-01T10:24:38.832494Z",
     "iopub.status.idle": "2024-10-01T10:24:39.697411Z",
     "shell.execute_reply": "2024-10-01T10:24:39.696236Z"
    },
    "papermill": {
     "duration": 0.881978,
     "end_time": "2024-10-01T10:24:39.700582",
     "exception": false,
     "start_time": "2024-10-01T10:24:38.818604",
     "status": "completed"
    },
    "tags": []
   },
   "outputs": [
    {
     "name": "stdout",
     "output_type": "stream",
     "text": [
      "{'alpha': 0.001, 'max_iter': 3000}\n"
     ]
    },
    {
     "data": {
      "text/plain": [
       "0.2311365904841066"
      ]
     },
     "execution_count": 25,
     "metadata": {},
     "output_type": "execute_result"
    }
   ],
   "source": [
    "ridge = Ridge()\n",
    "\n",
    "#우리가 튜닝하고자하는 Ridge의 파라미터 중 특정 파라미터에 배열 값으로 넘겨주게 되면 테스트 후 어떤 파라미터가 최적의 값인지 알려줌 \n",
    "ridge_params = {'max_iter':[3000],'alpha':[0.001,0.01,0.1,1,10,100,1000]}\n",
    "rmsle_scorer = metrics.make_scorer(rmsle,greater_is_better=False)\n",
    "grid_ridge = GridSearchCV(ridge,ridge_params,scoring=rmsle_scorer,cv=5)\n",
    "\n",
    "grid_ridge.fit(train_X,train_Y)\n",
    "preds = grid_ridge.predict(train_X)\n",
    "print(grid_ridge.best_params_)\n",
    "rmsle(train_Y, preds)"
   ]
  },
  {
   "cell_type": "code",
   "execution_count": 26,
   "id": "7868717f",
   "metadata": {
    "execution": {
     "iopub.execute_input": "2024-10-01T10:24:39.746892Z",
     "iopub.status.busy": "2024-10-01T10:24:39.745673Z",
     "iopub.status.idle": "2024-10-01T10:25:05.939276Z",
     "shell.execute_reply": "2024-10-01T10:25:05.938236Z"
    },
    "papermill": {
     "duration": 26.218902,
     "end_time": "2024-10-01T10:25:05.942024",
     "exception": false,
     "start_time": "2024-10-01T10:24:39.723122",
     "status": "completed"
    },
    "tags": []
   },
   "outputs": [
    {
     "data": {
      "text/plain": [
       "0.9774163057674164"
      ]
     },
     "execution_count": 26,
     "metadata": {},
     "output_type": "execute_result"
    }
   ],
   "source": [
    "rf = RandomForestRegressor()\n",
    "\n",
    "rf_params = {'n_estimators':[1,10,100]}\n",
    "grid_rf = GridSearchCV(rf,rf_params,scoring=rmsle_scorer,cv=5)\n",
    "grid_rf.fit(train_X, train_Y)\n",
    "preds = grid_rf.predict(train_X)\n",
    "rmsle(np.exp(train_Y), np.exp(pred))"
   ]
  },
  {
   "cell_type": "code",
   "execution_count": 27,
   "id": "b1162bf1",
   "metadata": {
    "execution": {
     "iopub.execute_input": "2024-10-01T10:25:05.969839Z",
     "iopub.status.busy": "2024-10-01T10:25:05.969443Z",
     "iopub.status.idle": "2024-10-01T10:25:06.001621Z",
     "shell.execute_reply": "2024-10-01T10:25:06.000470Z"
    },
    "papermill": {
     "duration": 0.048871,
     "end_time": "2024-10-01T10:25:06.004171",
     "exception": false,
     "start_time": "2024-10-01T10:25:05.955300",
     "status": "completed"
    },
    "tags": []
   },
   "outputs": [
    {
     "data": {
      "text/plain": [
       "1.015451234268639"
      ]
     },
     "execution_count": 27,
     "metadata": {},
     "output_type": "execute_result"
    }
   ],
   "source": [
    "rmsle(np.exp(train_Y)-1, np.exp(pred)-1)"
   ]
  },
  {
   "cell_type": "code",
   "execution_count": 28,
   "id": "b397dc22",
   "metadata": {
    "execution": {
     "iopub.execute_input": "2024-10-01T10:25:06.031816Z",
     "iopub.status.busy": "2024-10-01T10:25:06.031419Z",
     "iopub.status.idle": "2024-10-01T10:26:41.784274Z",
     "shell.execute_reply": "2024-10-01T10:26:41.783139Z"
    },
    "papermill": {
     "duration": 95.781952,
     "end_time": "2024-10-01T10:26:41.799232",
     "exception": false,
     "start_time": "2024-10-01T10:25:06.017280",
     "status": "completed"
    },
    "tags": []
   },
   "outputs": [
    {
     "data": {
      "text/plain": [
       "0.9774163057674164"
      ]
     },
     "execution_count": 28,
     "metadata": {},
     "output_type": "execute_result"
    }
   ],
   "source": [
    "gb = GradientBoostingRegressor()\n",
    "gb_params={'max_depth':range(1,11,1),'n_estimators':[1,10,100]}\n",
    "grid_gb=GridSearchCV(gb,gb_params,scoring=rmsle_scorer,cv=5)\n",
    "grid_gb.fit(train_X,train_Y)\n",
    "preds = grid_gb.predict(train_X)\n",
    "rmsle(np.exp(train_Y), np.exp(pred))"
   ]
  },
  {
   "cell_type": "code",
   "execution_count": 29,
   "id": "338ef413",
   "metadata": {
    "execution": {
     "iopub.execute_input": "2024-10-01T10:26:41.826496Z",
     "iopub.status.busy": "2024-10-01T10:26:41.826066Z",
     "iopub.status.idle": "2024-10-01T10:26:41.839202Z",
     "shell.execute_reply": "2024-10-01T10:26:41.838194Z"
    },
    "papermill": {
     "duration": 0.029165,
     "end_time": "2024-10-01T10:26:41.841170",
     "exception": false,
     "start_time": "2024-10-01T10:26:41.812005",
     "status": "completed"
    },
    "tags": []
   },
   "outputs": [
    {
     "data": {
      "text/html": [
       "<div>\n",
       "<style scoped>\n",
       "    .dataframe tbody tr th:only-of-type {\n",
       "        vertical-align: middle;\n",
       "    }\n",
       "\n",
       "    .dataframe tbody tr th {\n",
       "        vertical-align: top;\n",
       "    }\n",
       "\n",
       "    .dataframe thead th {\n",
       "        text-align: right;\n",
       "    }\n",
       "</style>\n",
       "<table border=\"1\" class=\"dataframe\">\n",
       "  <thead>\n",
       "    <tr style=\"text-align: right;\">\n",
       "      <th></th>\n",
       "      <th>datetime</th>\n",
       "      <th>season</th>\n",
       "      <th>holiday</th>\n",
       "      <th>workingday</th>\n",
       "      <th>weather</th>\n",
       "      <th>temp</th>\n",
       "      <th>atemp</th>\n",
       "      <th>humidity</th>\n",
       "      <th>windspeed</th>\n",
       "    </tr>\n",
       "  </thead>\n",
       "  <tbody>\n",
       "    <tr>\n",
       "      <th>0</th>\n",
       "      <td>2011-01-20 00:00:00</td>\n",
       "      <td>1</td>\n",
       "      <td>0</td>\n",
       "      <td>1</td>\n",
       "      <td>1</td>\n",
       "      <td>10.66</td>\n",
       "      <td>11.365</td>\n",
       "      <td>56</td>\n",
       "      <td>26.0027</td>\n",
       "    </tr>\n",
       "  </tbody>\n",
       "</table>\n",
       "</div>"
      ],
      "text/plain": [
       "              datetime  season  holiday  workingday  weather   temp   atemp  \\\n",
       "0  2011-01-20 00:00:00       1        0           1        1  10.66  11.365   \n",
       "\n",
       "   humidity  windspeed  \n",
       "0        56    26.0027  "
      ]
     },
     "execution_count": 29,
     "metadata": {},
     "output_type": "execute_result"
    }
   ],
   "source": [
    "test_X.head(1)"
   ]
  },
  {
   "cell_type": "code",
   "execution_count": 30,
   "id": "589159e4",
   "metadata": {
    "execution": {
     "iopub.execute_input": "2024-10-01T10:26:41.869353Z",
     "iopub.status.busy": "2024-10-01T10:26:41.868955Z",
     "iopub.status.idle": "2024-10-01T10:26:41.998442Z",
     "shell.execute_reply": "2024-10-01T10:26:41.997421Z"
    },
    "papermill": {
     "duration": 0.147455,
     "end_time": "2024-10-01T10:26:42.001928",
     "exception": false,
     "start_time": "2024-10-01T10:26:41.854473",
     "status": "completed"
    },
    "tags": []
   },
   "outputs": [],
   "source": [
    "test_X['year'] = test_X['datetime'].apply(lambda x: x.split()[0].split('-')[0])\n",
    "test_X['month'] = test_X['datetime'].apply(lambda x: x.split()[0].split('-')[1])\n",
    "test_X['day'] = test_X['datetime'].apply(lambda x: x.split()[0].split('-')[2])\n",
    "test_X['hour'] = test_X['datetime'].apply(lambda x: x.split()[1].split(':')[0])\n",
    "\n",
    "test_X['tempDate'] = test_X['datetime'].apply(lambda x: x.split()[0])\n",
    "test_X[\"weekday\"] = test_X['tempDate'].apply(lambda x : calendar.day_name[datetime.strptime(x,\"%Y-%m-%d\").weekday()])\n",
    "\n",
    "for value in ['year', 'month', 'day', 'hour']:\n",
    "    test_X[value] = pd.to_numeric(test_X[value], errors='coerce')\n",
    "    \n",
    "test_X['weekday']= test_X['weekday'].astype('category')\n",
    "\n",
    "test_X['weekday'].cat.categories\n",
    "\n",
    "test_X['weekday'] = test_X['weekday'].cat.rename_categories([5, 1, 6, 0, 4, 2, 3])\n",
    "\n",
    "tempDate = test_X['datetime']\n",
    "\n",
    "test_X = test_X.drop(['tempDate', 'datetime'], axis=1)"
   ]
  },
  {
   "cell_type": "code",
   "execution_count": 31,
   "id": "bf209245",
   "metadata": {
    "execution": {
     "iopub.execute_input": "2024-10-01T10:26:42.031365Z",
     "iopub.status.busy": "2024-10-01T10:26:42.030353Z",
     "iopub.status.idle": "2024-10-01T10:26:42.051260Z",
     "shell.execute_reply": "2024-10-01T10:26:42.050207Z"
    },
    "papermill": {
     "duration": 0.037876,
     "end_time": "2024-10-01T10:26:42.053663",
     "exception": false,
     "start_time": "2024-10-01T10:26:42.015787",
     "status": "completed"
    },
    "tags": []
   },
   "outputs": [],
   "source": [
    "preds = grid_gb.predict(test_X)"
   ]
  },
  {
   "cell_type": "code",
   "execution_count": 32,
   "id": "86ba5bf1",
   "metadata": {
    "execution": {
     "iopub.execute_input": "2024-10-01T10:26:42.082061Z",
     "iopub.status.busy": "2024-10-01T10:26:42.081668Z",
     "iopub.status.idle": "2024-10-01T10:26:42.096185Z",
     "shell.execute_reply": "2024-10-01T10:26:42.094821Z"
    },
    "papermill": {
     "duration": 0.031865,
     "end_time": "2024-10-01T10:26:42.098813",
     "exception": false,
     "start_time": "2024-10-01T10:26:42.066948",
     "status": "completed"
    },
    "tags": []
   },
   "outputs": [
    {
     "name": "stdout",
     "output_type": "stream",
     "text": [
      "<class 'pandas.core.frame.DataFrame'>\n",
      "RangeIndex: 6493 entries, 0 to 6492\n",
      "Data columns (total 2 columns):\n",
      " #   Column    Non-Null Count  Dtype  \n",
      "---  ------    --------------  -----  \n",
      " 0   datetime  6493 non-null   object \n",
      " 1   count     6493 non-null   float64\n",
      "dtypes: float64(1), object(1)\n",
      "memory usage: 101.6+ KB\n"
     ]
    }
   ],
   "source": [
    "submission = pd.DataFrame()\n",
    "submission['datetime'] = tempDate\n",
    "submission['count'] = np.exp(preds)-1\n",
    "submission.info()"
   ]
  },
  {
   "cell_type": "code",
   "execution_count": 33,
   "id": "e5730460",
   "metadata": {
    "execution": {
     "iopub.execute_input": "2024-10-01T10:26:42.128025Z",
     "iopub.status.busy": "2024-10-01T10:26:42.127581Z",
     "iopub.status.idle": "2024-10-01T10:26:42.151498Z",
     "shell.execute_reply": "2024-10-01T10:26:42.150582Z"
    },
    "papermill": {
     "duration": 0.041657,
     "end_time": "2024-10-01T10:26:42.154218",
     "exception": false,
     "start_time": "2024-10-01T10:26:42.112561",
     "status": "completed"
    },
    "tags": []
   },
   "outputs": [],
   "source": [
    "submission.to_csv(\"submission.csv\", index=False)"
   ]
  },
  {
   "cell_type": "code",
   "execution_count": null,
   "id": "69758932",
   "metadata": {
    "papermill": {
     "duration": 0.013432,
     "end_time": "2024-10-01T10:26:42.181040",
     "exception": false,
     "start_time": "2024-10-01T10:26:42.167608",
     "status": "completed"
    },
    "tags": []
   },
   "outputs": [],
   "source": []
  }
 ],
 "metadata": {
  "kaggle": {
   "accelerator": "none",
   "dataSources": [
    {
     "databundleVersionId": 32624,
     "sourceId": 3948,
     "sourceType": "competition"
    }
   ],
   "dockerImageVersionId": 30775,
   "isGpuEnabled": false,
   "isInternetEnabled": true,
   "language": "python",
   "sourceType": "notebook"
  },
  "kernelspec": {
   "display_name": "Python 3",
   "language": "python",
   "name": "python3"
  },
  "language_info": {
   "codemirror_mode": {
    "name": "ipython",
    "version": 3
   },
   "file_extension": ".py",
   "mimetype": "text/x-python",
   "name": "python",
   "nbconvert_exporter": "python",
   "pygments_lexer": "ipython3",
   "version": "3.10.14"
  },
  "papermill": {
   "default_parameters": {},
   "duration": 133.073877,
   "end_time": "2024-10-01T10:26:42.816665",
   "environment_variables": {},
   "exception": null,
   "input_path": "__notebook__.ipynb",
   "output_path": "__notebook__.ipynb",
   "parameters": {},
   "start_time": "2024-10-01T10:24:29.742788",
   "version": "2.6.0"
  }
 },
 "nbformat": 4,
 "nbformat_minor": 5
}
